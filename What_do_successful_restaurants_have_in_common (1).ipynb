{
 "cells": [
  {
   "cell_type": "markdown",
   "metadata": {},
   "source": [
    "# What do successful restaurants in New York have in common? \n",
    "\n",
    "Over the course of two weeks, I need to come up with an idea to leverage the Foursquare location data or to come up with a problem that I can use the Foursquare location data to solve.\n",
    "\n",
    "I will have to provide sufficient justification of why I think what I want to solve is important and why would a client or a group of people be interested in my project.  \n",
    "\n",
    "For this week, I will be required to submit the following:\n",
    "1. A description of the problem and a discussion of the background.  \n",
    "2. A description of the data and how will it be used to solve the problem.  "
   ]
  },
  {
   "cell_type": "markdown",
   "metadata": {},
   "source": [
    "## Introduction/Business Problem\n",
    "\n",
    "What am I required to do?\n",
    "- Clearly define a problem or an idea of my choice\n",
    "- Where you would need to leverage the Foursquare location data to solve or execute\n",
    "- Describe my audience and why they would care about my problem\n",
    "\n",
    "### Define an idea\n",
    "There are many aspects that need to be take care of when running a food business e.g. location, accessibility, visibility, types of cuisines offered, customer service and many more.  It is difficult for business owners who are new to this field to figure out what should they prioritize when managing their restaurants.  \n",
    "\n",
    "For this project, we operationalize the Foursquare rating of a restaurant to be the measure of \"successfulness\" of a restaurant.  It is thought that we can try to use machine learning to study the Foursquare profiles of many restaurants.  From the study/training process, we can figure out if there are common characteristics among restaurants with high rating that worth greater attention of the business owners and operators.   \n",
    "\n",
    "For now, this project will be **focusing on the New York region**.  However, the idea and the code for this project are transferable (with minimal modifications) to any regions in the world as long as Foursquare is being used in that region.   \n",
    "\n",
    "In short, the idea of this project is to determine the traits of the restaurants with high Foursquare rating in New York.  Another way of framing the question can be \"What do successful restaurants in New York have in common?\" \n",
    "\n",
    "### Where to leverage the Foursquare location data\n",
    "As mentioned in the subsection above, this project will be revolving completely around the location data that are made available by Foursquare for each restaurant.  After reviewing the details available for each venue, it is decided that the Foursquare location data can be leveraged in these ways.  \n",
    "\n",
    "**Traits of restaurants**   \n",
    "This project involves studying the different details of each restaurant that are available in Foursquare.  Some examples of these details include the category of the restaurant, statistics (collected from customers), provision of url that links to web page of the restaurants, operating hours of the restaurant, menu of the restaurant, price tier, count of photos provided by visitors and other attributes  of the restaurants.  This section attempts to study if any of these traits can be reliable predictors to predict the successfulness of a restaurant.  Most of these traits are within the control of the business owners.  With the reliable predictors being determined, the restaurant may have a clearer direction on what to work on to improve their business.     \n",
    "\n",
    "### Describe my audience\n",
    "This project will be useful for any business owners or potential business owners.    \n",
    "\n",
    "Business owners can use this project to check how the restaurants' location is affecting the business.  Besides that, the business owners can compared their restaurants to the \"ideal traits\" of a successful restaurants to determine if there are potential aspects that can be improved to attract more customers. \n",
    "\n",
    "Potential business owners can utilize this project to find a suitable location to set up their restaurants.  The project also allows the business owners to set their priority on the few aspects that is crucial to have a successful restaurant.  "
   ]
  },
  {
   "cell_type": "markdown",
   "metadata": {},
   "source": [
    "## Data\n",
    "\n",
    "What am I required to do?\n",
    "- Describe the data that I will be using to execute my idea\n",
    "- Provide adequate explanation and discussion, with examples, of the data that I will be using\n",
    "\n",
    "### Describe the data\n",
    "All the data required for this project can be obtained using the Foursquare platform.  Foursquare is known to be one of the established, independent location data platform.  It is created mainly to understand how people \"move through the real world\".  It collects information on how people move using a combination of (i) Pilgrim, their location tracking technology, (ii) Foursquare Swarm, their location sharing platform and (iii) the user's search history.  \n",
    "\n",
    "Developer are allowed to obtain part of the information collected by Foursquare using the Foursquare API.  In particular, this project will first obtain the venue ID of all eateries in the region of New York.  By using the venue ID, the details of each venue found are collected.  These information will then be send for preprocessing to filter out the irrelevant and redundant details.  \n",
    "\n",
    "### Explanation and discussion\n",
    "**Location**        \n",
    "Firstly, the latitude and longitude of the restaurants are obtained using the \"Search for venues\" request.  This request allows the developer to \"returns a list of venues near the current location, optionally matching a search term.\"  This list contains basic location information (including latidude and longitude) of all venues found.   \n",
    "\n",
    "**Traits of restaurants**   \n",
    "The rating can only be obtained by feeding the venue ID found above into another request - \"get details of a venue\".  Plenty of details will be fetched along with this request.  These details include categories, url, operating hour, price tier, rating, count of tips and many more.  For this project, we decide to close in on the few details as predictors, which are the categories, stats, url, hours, menu url, price, photos, attributes.  The rating of each restaurant will be the target of the decision tree classification model (more will be discussed in the Methodology section).  These details are extracted in the preprocessing process to create a dataframe that can be analyzed more conveniently.   \n",
    "\n",
    "###  Links to relevant websites on how to request data from Foursquare\n",
    "Many of the phrases used in the data section are extracted from the two websites below.  These websites list out the parameters and responses of the two requests being used above.    \n",
    "1. **Search for Venues**   \n",
    "<a href=\"https://developer.foursquare.com/docs/api/venues/search\">https://developer.foursquare.com/docs/api/venues/search</a>\n",
    "\n",
    "2. **Get Details of a Venue**   \n",
    "<a href=\"https://developer.foursquare.com/docs/api/venues/details\">https://developer.foursquare.com/docs/api/venues/details</a>"
   ]
  },
  {
   "cell_type": "markdown",
   "metadata": {},
   "source": [
    "## Methodology\n",
    "\n",
    "What am I required to do?\n",
    "1. discuss and describe any exploratory data analysis that I did\n",
    "2. discuss and describe any inferential statistical testing that I performed\n",
    "3. discuss and describe what machine learnings were used and why.\n",
    "\n",
    "### Exploratory Data Analysis\n",
    "The rating of the restaurants were explored in the form of a histogram to determine the cutoff point for rating.  This cutoff point serves to separate the restaurants into two groups: the \"successful\" and the \"below cutoff point\" group.  \n",
    "\n",
    "At first, a histogram is plotted to study the distribution of restaurants over the rating scale.  From the rough idea gained there, we decided on which percentile should this project went for the separation process.  \n",
    "\n",
    "### Inferential Statistical Testing\n",
    "In the project, we studied the count of various values within a variable to decide on whether mean, median or mode was more suitable to be used to replace values which were undefined.  Variables that requires this process are \"CardPayments\" and \"OutdoorSeating\".  The decision tree classification model (discussed in the following subsection) also serves as a inferential statistical testing as it eliminates variables which correlates less with the successfulness of the restaurants.   \n",
    "\n",
    "### Machine Learning\n",
    "A decision tree classification model was used to study some of the variables that had data being extracted from Foursquare.  Decision tree classification model is a model which employs a flowchart-like structure to predicts an outcome (or target).  This classifying method was chosen for the purpose of this section as the data comprises a combination of mainly categorical variables.  In that case, decision tree classification model can be useful as it provides insight on how the various predictors affect the target variables collectively.  By studying the nodes and leaf of the model, we determined which traits had a greater positive/negative impact on the rating of the restaurants by observing the decrement of entropy of the model along the way.  "
   ]
  },
  {
   "cell_type": "markdown",
   "metadata": {},
   "source": [
    "## Result\n",
    "\n",
    "### Rating Histogram \n",
    "<figure>\n",
    "  <img src=\"rating.JPG\" alt=\"The Decision Tree\" width=\"600\" height=\"600\">\n",
    "</figure>\n",
    "\n",
    "It was seen from the histogram above that the distribution roughly follows a normal distribution.  However, we can't infer for sure due to the limited number of samples that we managed to obtain. The mode rating was around 7.5.   \n",
    "\n",
    "From the distribution above, we chose to have our cutoff point at the 70th percentile of the distribution.  \n",
    "\n",
    "### Decision Tree Classification Model\n",
    "<figure>\n",
    "  <img src=\"restauranttree.png\" alt=\"The Decision Tree\" width=\"3000\" height=\"2000\">\n",
    "</figure>\n",
    "\n",
    "The project managed to create a decision tree classification model.  This model has 4 levels and it managed to predict the test set with accuracy of 0.75.  From the decision tree, we can made a few inference:\n",
    "1. The classification model classify restaurants which are featured on many external lists (bigger ListedCount) better.  \n",
    "2. Restaurants that are relatively new (bigger CreatedAt value) seems to only be successful when they are listed more on other websites (bigger ListedCount).  \n",
    "3. Dinner restaurants without delivery service don't really do well.  \n",
    "4. Beer promotes the successfulness of a restaurant.  "
   ]
  },
  {
   "cell_type": "markdown",
   "metadata": {},
   "source": [
    "## Discussion   \n",
    "\n",
    "This whole project is greatly limited by the number of request that can be made from Foursquare (limited to 500).  Besides that, it would be great if the rating of a restaurant is considered a regular API.  If this is the case, all restaurants in New York City can be filtered first based on their rating before inputting their ID to fetch the details of their restaurants.   \n",
    "\n",
    "One of the aspect that we observed during the working of this project is that many restaurants owners have incomplete Foursquare restaurant profile.  This is not beneficial for the owners as the lack of information (especially opening hours) hinders customers from making good decision.  \n",
    "\n",
    "The classification model is tested at different level, and yet it can be seen that the accuracy doesn't improve with the number of levels.  This is something worth investigating in the future.  "
   ]
  },
  {
   "cell_type": "markdown",
   "metadata": {},
   "source": [
    "## Conclusion"
   ]
  },
  {
   "cell_type": "markdown",
   "metadata": {},
   "source": [
    "The accuracy of the classification model require a more rigorous testing with greater amount of data for training and testing purposes.  Yet, the model still provide good insights on a few traits of restaurants that make them successful.  Some of these insights are: \n",
    "1. Dinner restaurants can be successful with delivery service provided. \n",
    "2. Beers boost popularity of the restaurant.  \n",
    "3. Getting the restaurant featured on various lists in the web helps boost the successfulness of the restaurant.  "
   ]
  },
  {
   "cell_type": "markdown",
   "metadata": {},
   "source": []
  }
 ],
 "metadata": {
  "kernelspec": {
   "display_name": "Python",
   "language": "python",
   "name": "conda-env-python-py"
  },
  "language_info": {
   "codemirror_mode": {
    "name": "ipython",
    "version": 3
   },
   "file_extension": ".py",
   "mimetype": "text/x-python",
   "name": "python",
   "nbconvert_exporter": "python",
   "pygments_lexer": "ipython3",
   "version": "3.6.7"
  }
 },
 "nbformat": 4,
 "nbformat_minor": 4
}
