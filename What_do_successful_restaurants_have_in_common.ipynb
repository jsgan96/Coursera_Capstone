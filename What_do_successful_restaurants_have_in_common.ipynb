{
 "cells": [
  {
   "cell_type": "markdown",
   "metadata": {},
   "source": [
    "# What do successful restaurants in New York have in common? \n",
    "\n",
    "Over the course of two weeks, I need to come up with an idea to leverage the Foursquare location data or to come up with a problem that I can use the Foursquare location data to solve.\n",
    "\n",
    "I will have to provide sufficient justification of why I think what I want to solve is important and why would a client or a group of people be interested in my project.  \n",
    "\n",
    "For this week, I will be required to submit the following:\n",
    "1. A description of the problem and a discussion of the background.  \n",
    "2. A description of the data and how will it be used to solve the problem.  "
   ]
  },
  {
   "cell_type": "markdown",
   "metadata": {},
   "source": [
    "## Introduction/Business Problem\n",
    "\n",
    "What am I required to do?\n",
    "- Clearly define a problem or an idea of my choice\n",
    "- Where you would need to leverage the Foursquare location data to solve or execute\n",
    "- Describe my audience and why they would care about my problem\n",
    "\n",
    "### Define an idea\n",
    "There are many aspects that need to be take care of when running a food business e.g. location, accessibility, visibility, types of cuisines offered, customer service and many more.  It is difficult for business owners who are new to this field to figure out what should they prioritize when managing their restaurants.  \n",
    "\n",
    "For this project, we operationalize the Foursquare rating of a restaurant to be the measure of \"successfulness\" of a restaurant.  It is thought that we can try to use machine learning to study the Foursquare profiles of many restaurants.  From the study/training process, we can figure out if there are common characteristics among restaurants with high rating that worth greater attention of the business owners and operators.   \n",
    "\n",
    "For now, this project will be **focusing on the New York region**.  However, the idea and the code for this project are transferable (with minimal modifications) to any regions in the world as long as Foursquare is being used in that region.   \n",
    "\n",
    "In short, the idea of this project is to determine the traits of the restaurants with high Foursquare rating in New York.  Another way of framing the question can be \"What do successful restaurants in New York have in common?\" \n",
    "\n",
    "### Where to leverage the Foursquare location data\n",
    "As mentioned in the subsection above, this project will be revolving completely around the location data that are made available by Foursquare for each restaurant.  After reviewing the details available for each venue, it is decided that the Foursquare location data can be leveraged in three different ways.  With respect to that, the project is designed to have **three sections**.  \n",
    "\n",
    "1. **Location**  \n",
    "The first section aims to study the relationship between the location of a restaurant and the successfulness of that restaurant.  Location data leveraged from Foursquare consists of details such as the coordinates and the address of the restaurant.  This section can be helpful for business owners to see to which magnitude does the location of their restaurant affect their business positively/negatively. Location is given it's own section because this aspect of the restaurant is something that is rather fixed for the business owners.  In that case, this section serves to make the business owners aware of the effect of the location.  With that, business owners may devise their strategies to complement/compensate for the advantage/disadvantage of their location.  \n",
    "\n",
    "2. **Traits of restaurants**   \n",
    "The second section involves studying the different details of each restaurant that are available in Foursquare.  Some examples of these details include the category of the restaurant, statistics (collected from customers), provision of url that links to web page of the restaurants, operating hours of the restaurant, menu of the restaurant, price tier, count of photos provided by visitors and other attributes  of the restaurants.  This section attempts to study if any of these traits can be reliable predictors to predict the successfulness of a restaurant.  Most of these traits are within the control of the business owners.  With the reliable predictors being determined, the restaurant may have a clearer direction on what to work on to improve their business.     \n",
    "\n",
    "3. **Tips**   \n",
    "The third section involves studying the tips provided by people who visits the restaurants.  This information can be leveraged from Foursquare (to a certain extent as the number of request is limited).  This section is also important as it provides an opportunity for the business owners to see things from the customers' perspective.  It is hoped that this section may allow the business owners to reflect on their operation objectively and make changes if deemed necessary.  \n",
    "\n",
    "### Describe my audience\n",
    "This project will be useful for any business owners or potential business owners.    \n",
    "\n",
    "Business owners can use this project to check how the restaurants' location is affecting the business.  Besides that, the business owners can compared their restaurants to the \"ideal traits\" of a successful restaurants to determine if there are potential aspects that can be improved to attract more customers. \n",
    "\n",
    "Potential business owners can utilize this project to find a suitable location to set up their restaurants.  The project also allows the business owners to set their priority on the few aspects that is crucial to have a successful restaurant.  "
   ]
  },
  {
   "cell_type": "markdown",
   "metadata": {},
   "source": [
    "## Data\n",
    "\n",
    "What am I required to do?\n",
    "- Describe the data that I will be using to execute my idea\n",
    "- Provide adequate explanation and discussion, with examples, of the data that I will be using\n",
    "\n",
    "### Describe the data\n",
    "All the data required for this project can be obtained using the Foursquare platform.  Foursquare is known to be one of the established, independent location data platform.  It is created mainly to understand how people \"move through the real world\".  It collects information on how people move using a combination of (i) Pilgrim, their location tracking technology, (ii) Foursquare Swarm, their location sharing platform and (iii) the user's search history.  \n",
    "\n",
    "Developer are allowed to obtain part of the information collected by Foursquare using the Foursquare API.  In particular, this project will first obtain the venue ID of all eateries in the region of New York.  By using the venue ID, the details of each venue found are collected.  These information will then be send for preprocessing to filter out the irrelevant and redundant details.  \n",
    "\n",
    "### Explanation and discussion\n",
    "1. **Location**   \n",
    "For the first section, the data needed are the coordinates (latitude and longitude) and the rating of the restaurants.  The latitude and longitude of the restaurants are obtained using the \"Search for venues\" request.  This request allows the developer to \"returns a list of venues near the current location, optionally matching a search term.\"  This list contains basic location information (including latidude and longitude) of all venues found, which will be sufficient for this section of the project.  The rating can only be obtained by feeding the venue ID found above into another request - \"get details of a venue\".  Plenty of details will be fetched as the response to this request.  These details include categories, url, operating hour, price tier, rating, count of tips and many more.  For this section, only rating is required.  For the next section, however, the other details may be useful (see below). \n",
    "\n",
    "2. **Traits of restaurants**    \n",
    "The process to obtain the details of venues is as discussed in the paragraph above.  For this section, we decide to close in on the few details as predictors, which are the categories, stats, url, hours, menu url, price, photos, attributes.  The rating of each restaurant will be the target of the decision tree classification model (more will be discussed in the Methodology section).  These details are extracted in the preprocessing process to create a dataframe that can be analyzed more conveniently.   \n",
    "\n",
    "3. **Tips**    \n",
    "For this section, we will extract the \"phrase\" from the details of each venue.  This key refers to the \"list of phrases commonly seen in this venue’s tips, as well as a sample tip snippet and the number of tips this phrase appears in\". By aggregating the list of phrases of all restaurant into two big clusters based on the rating of the restaurant, we can construct two word clouds.  Each word cloud contains phrases that appear in the tips of the restaurants, with the font size adjusted according to the frequency of the phrases used (again to be discussed further in the Methodology section).  \n",
    "\n",
    "###  Links to relevant websites on how to request data from Foursquare\n",
    "Many of the phrases used in the data section are extracted from the two websites below.  These websites list out the parameters and responses of the two requests being used above.    \n",
    "1. **Search for Venues**   \n",
    "<a href=\"https://developer.foursquare.com/docs/api/venues/search\">https://developer.foursquare.com/docs/api/venues/search</a>\n",
    "\n",
    "2. **Get Details of a Venue**   \n",
    "<a href=\"https://developer.foursquare.com/docs/api/venues/details\">https://developer.foursquare.com/docs/api/venues/details</a>"
   ]
  },
  {
   "cell_type": "code",
   "execution_count": null,
   "metadata": {},
   "outputs": [],
   "source": []
  }
 ],
 "metadata": {
  "kernelspec": {
   "display_name": "Python",
   "language": "python",
   "name": "conda-env-python-py"
  },
  "language_info": {
   "codemirror_mode": {
    "name": "ipython",
    "version": 3
   },
   "file_extension": ".py",
   "mimetype": "text/x-python",
   "name": "python",
   "nbconvert_exporter": "python",
   "pygments_lexer": "ipython3",
   "version": "3.6.7"
  }
 },
 "nbformat": 4,
 "nbformat_minor": 4
}
